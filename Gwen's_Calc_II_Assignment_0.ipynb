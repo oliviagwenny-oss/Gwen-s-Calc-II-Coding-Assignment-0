{
  "nbformat": 4,
  "nbformat_minor": 0,
  "metadata": {
    "colab": {
      "provenance": [],
      "authorship_tag": "ABX9TyNt0TuuriF97/4T7UNSPhiY",
      "include_colab_link": true
    },
    "kernelspec": {
      "name": "python3",
      "display_name": "Python 3"
    },
    "language_info": {
      "name": "python"
    }
  },
  "cells": [
    {
      "cell_type": "markdown",
      "metadata": {
        "id": "view-in-github",
        "colab_type": "text"
      },
      "source": [
        "<a href=\"https://colab.research.google.com/github/oliviagwenny-oss/Gwen-s-Calc-II-Coding-Assignment-0/blob/main/Gwen's_Calc_II_Assignment_0.ipynb\" target=\"_parent\"><img src=\"https://colab.research.google.com/assets/colab-badge.svg\" alt=\"Open In Colab\"/></a>"
      ]
    },
    {
      "cell_type": "markdown",
      "metadata": {
        "id": "066084e0"
      },
      "source": [
        "# Gwen's Calc II Coding Assignment 0"
      ]
    },
    {
      "cell_type": "markdown",
      "metadata": {
        "id": "c9984fd0"
      },
      "source": [
        "## *f(x)=1/x*\n",
        "$$ f(x) = \\frac{1}{x} $$\n",
        " **f(x)=1/x is my favorite function because I like how the graph mirrors itself**"
      ]
    },
    {
      "cell_type": "code",
      "source": [
        "def f(x):\n",
        "    return 1/x\n",
        "\n",
        "    result = f(1,2,3,4,5)\n",
        "\n",
        "    print(result)\n",
        "\n"
      ],
      "metadata": {
        "id": "RRSRvyMnbqMV"
      },
      "execution_count": 24,
      "outputs": []
    },
    {
      "cell_type": "code",
      "source": [
        "import sympy\n",
        "\n",
        "x = sympy.Symbol(\"x\")\n",
        "\n",
        "f = 1/x\n",
        "\n",
        "f.diff(x)\n",
        "\n",
        "f.integrate(x)"
      ],
      "metadata": {
        "colab": {
          "base_uri": "https://localhost:8080/",
          "height": 39
        },
        "id": "GKIfOO-dgEMK",
        "outputId": "91deb45b-7f9b-4fda-c10c-cd51d3232c04"
      },
      "execution_count": 22,
      "outputs": [
        {
          "output_type": "execute_result",
          "data": {
            "text/plain": [
              "log(x)"
            ],
            "text/latex": "$\\displaystyle \\log{\\left(x \\right)}$"
          },
          "metadata": {},
          "execution_count": 22
        }
      ]
    }
  ]
}