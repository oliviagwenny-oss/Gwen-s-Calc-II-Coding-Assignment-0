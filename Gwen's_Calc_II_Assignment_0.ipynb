{
  "nbformat": 4,
  "nbformat_minor": 0,
  "metadata": {
    "colab": {
      "provenance": [],
      "authorship_tag": "ABX9TyP+DM9Z2xYTJS0Wl1A6jzah",
      "include_colab_link": true
    },
    "kernelspec": {
      "name": "python3",
      "display_name": "Python 3"
    },
    "language_info": {
      "name": "python"
    }
  },
  "cells": [
    {
      "cell_type": "markdown",
      "metadata": {
        "id": "view-in-github",
        "colab_type": "text"
      },
      "source": [
        "<a href=\"https://colab.research.google.com/github/oliviagwenny-oss/Gwen-s-Calc-II-Coding-Assignment-0/blob/main/Gwen's_Calc_II_Assignment_0.ipynb\" target=\"_parent\"><img src=\"https://colab.research.google.com/assets/colab-badge.svg\" alt=\"Open In Colab\"/></a>"
      ]
    },
    {
      "cell_type": "markdown",
      "metadata": {
        "id": "066084e0"
      },
      "source": [
        "# Gwen's Calc II Coding Assignment 0"
      ]
    },
    {
      "cell_type": "markdown",
      "metadata": {
        "id": "c9984fd0"
      },
      "source": [
        "## *f(x)=1/x*\n",
        "$$ f(x) = \\frac{1}{x} $$\n",
        " **f(x)=1/x is my favorite function because I like how the graph mirrors itself**"
      ]
    },
    {
      "cell_type": "code",
      "source": [
        "def f(x):\n",
        "    return 1/x\n",
        "\n",
        "result = f(1)\n",
        "\n",
        "print(result)"
      ],
      "metadata": {
        "colab": {
          "base_uri": "https://localhost:8080/"
        },
        "collapsed": true,
        "id": "RRSRvyMnbqMV",
        "outputId": "7ffa8ab3-f053-42e1-ef59-b103950cdb07"
      },
      "execution_count": 48,
      "outputs": [
        {
          "output_type": "stream",
          "name": "stdout",
          "text": [
            "1.0\n"
          ]
        }
      ]
    },
    {
      "cell_type": "code",
      "source": [
        "def f(x):\n",
        "    return 1/x\n",
        "\n",
        "result = f(2)\n",
        "\n",
        "print(result)"
      ],
      "metadata": {
        "colab": {
          "base_uri": "https://localhost:8080/"
        },
        "id": "WO2pU9M9jzUB",
        "outputId": "317aef87-9ef3-4641-b8a9-6f7325f55f3d"
      },
      "execution_count": 49,
      "outputs": [
        {
          "output_type": "stream",
          "name": "stdout",
          "text": [
            "0.5\n"
          ]
        }
      ]
    },
    {
      "cell_type": "code",
      "source": [
        "def f(x):\n",
        "    return 1/x\n",
        "\n",
        "result = f(3)\n",
        "\n",
        "print(result)"
      ],
      "metadata": {
        "colab": {
          "base_uri": "https://localhost:8080/"
        },
        "id": "ZdDP4JNqj23Z",
        "outputId": "dc363820-9694-4ffb-a3f2-11a16be7b1a5"
      },
      "execution_count": 50,
      "outputs": [
        {
          "output_type": "stream",
          "name": "stdout",
          "text": [
            "0.3333333333333333\n"
          ]
        }
      ]
    },
    {
      "cell_type": "code",
      "source": [
        "def f(x):\n",
        "    return 1/x\n",
        "\n",
        "result = f(4)\n",
        "\n",
        "print(result)"
      ],
      "metadata": {
        "colab": {
          "base_uri": "https://localhost:8080/"
        },
        "id": "hc5VRxQJj4ls",
        "outputId": "a02bb6cf-3ae2-45f7-c5d2-8a7165360162"
      },
      "execution_count": 51,
      "outputs": [
        {
          "output_type": "stream",
          "name": "stdout",
          "text": [
            "0.25\n"
          ]
        }
      ]
    },
    {
      "cell_type": "code",
      "source": [
        "def f(x):\n",
        "    return 1/x\n",
        "\n",
        "result = f(5)\n",
        "\n",
        "print(result)"
      ],
      "metadata": {
        "colab": {
          "base_uri": "https://localhost:8080/"
        },
        "id": "MDoO7htzj62Y",
        "outputId": "be65597c-f0a7-420f-b72d-5342eb54577f"
      },
      "execution_count": 52,
      "outputs": [
        {
          "output_type": "stream",
          "name": "stdout",
          "text": [
            "0.2\n"
          ]
        }
      ]
    },
    {
      "cell_type": "code",
      "source": [
        "def f(x):\n",
        "    return 1/x\n",
        "\n",
        "result = f(sympy.pi)\n",
        "\n",
        "print(result)"
      ],
      "metadata": {
        "colab": {
          "base_uri": "https://localhost:8080/"
        },
        "id": "2FNHEwD4j9Kx",
        "outputId": "cefca74e-3248-4793-e5e6-bed777a90b10"
      },
      "execution_count": 54,
      "outputs": [
        {
          "output_type": "stream",
          "name": "stdout",
          "text": [
            "1/pi\n"
          ]
        }
      ]
    },
    {
      "cell_type": "code",
      "source": [
        "import sympy\n",
        "\n",
        "x = sympy.Symbol(\"x\")\n",
        "\n",
        "f = 1/x\n",
        "\n",
        "sympy.integrate(f,(x,0,1))"
      ],
      "metadata": {
        "colab": {
          "base_uri": "https://localhost:8080/",
          "height": 37
        },
        "id": "GKIfOO-dgEMK",
        "outputId": "40d60f64-a4e5-4c1b-8bb4-b211005d6494"
      },
      "execution_count": 38,
      "outputs": [
        {
          "output_type": "execute_result",
          "data": {
            "text/plain": [
              "oo"
            ],
            "text/latex": "$\\displaystyle \\infty$"
          },
          "metadata": {},
          "execution_count": 38
        }
      ]
    },
    {
      "cell_type": "code",
      "source": [
        "import sympy\n",
        "\n",
        "x = sympy.Symbol(\"x\")\n",
        "\n",
        "f = 1/x\n",
        "\n",
        "f.integrate(x)\n"
      ],
      "metadata": {
        "colab": {
          "base_uri": "https://localhost:8080/",
          "height": 39
        },
        "id": "WVKcquT5jLdX",
        "outputId": "08d99949-29fb-4e97-910c-1fd00c2bb782"
      },
      "execution_count": 37,
      "outputs": [
        {
          "output_type": "execute_result",
          "data": {
            "text/plain": [
              "log(x)"
            ],
            "text/latex": "$\\displaystyle \\log{\\left(x \\right)}$"
          },
          "metadata": {},
          "execution_count": 37
        }
      ]
    },
    {
      "cell_type": "code",
      "source": [
        "import sympy\n",
        "\n",
        "x = sympy.Symbol(\"x\")\n",
        "\n",
        "f = 1/x\n",
        "\n",
        "f.diff(x)"
      ],
      "metadata": {
        "colab": {
          "base_uri": "https://localhost:8080/",
          "height": 51
        },
        "id": "Vf0730NUjIRJ",
        "outputId": "ce91761d-3bfd-4e39-e8f4-d536c61ebe32"
      },
      "execution_count": 36,
      "outputs": [
        {
          "output_type": "execute_result",
          "data": {
            "text/plain": [
              "-1/x**2"
            ],
            "text/latex": "$\\displaystyle - \\frac{1}{x^{2}}$"
          },
          "metadata": {},
          "execution_count": 36
        }
      ]
    }
  ]
}